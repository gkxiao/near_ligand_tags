{
 "cells": [
  {
   "cell_type": "code",
   "execution_count": 1,
   "id": "8e451a44",
   "metadata": {},
   "outputs": [],
   "source": [
    "from cresset import flare\n",
    "from rdkit.Geometry.rdGeometry import Point3D\n",
    "import urllib.request"
   ]
  },
  {
   "cell_type": "markdown",
   "id": "1277e3c0",
   "metadata": {},
   "source": [
    "读入一个Flare项目"
   ]
  },
  {
   "cell_type": "code",
   "execution_count": 2,
   "id": "e73f0129",
   "metadata": {},
   "outputs": [],
   "source": [
    "p = flare.Project.load('G:/work/water-replace/A2A/a2a-filter.flr')\n",
    "flare.main_window().project = p"
   ]
  },
  {
   "cell_type": "markdown",
   "id": "f4493e56",
   "metadata": {},
   "source": [
    "设定感兴趣的残基"
   ]
  },
  {
   "cell_type": "code",
   "execution_count": 3,
   "id": "bff7b763",
   "metadata": {},
   "outputs": [
    {
     "name": "stdout",
     "output_type": "stream",
     "text": [
      "A ASN 253\n"
     ]
    }
   ],
   "source": [
    "residue = p.proteins[0].residues.find('253')\n",
    "print(residue[0])"
   ]
  },
  {
   "cell_type": "markdown",
   "id": "b25f297d",
   "metadata": {},
   "source": [
    "寻找与感兴趣残基距离在特定范围内的配体"
   ]
  },
  {
   "cell_type": "code",
   "execution_count": 4,
   "id": "2d42b5bd",
   "metadata": {},
   "outputs": [],
   "source": [
    "def ligands_near(what, residue, radius):\n",
    "    ligands = set()\n",
    "    for al in what.atoms:\n",
    "        if (al.atomic_number == 1):\n",
    "            continue\n",
    "        for ap in residue[0].atoms:\n",
    "            if (ap.atomic_number == 1):\n",
    "                continue\n",
    "            d = Point3D(*al.pos).Distance(Point3D(*ap.pos))\n",
    "            if (d < radius):\n",
    "                ligands.add(str(what))\n",
    "    return ligands"
   ]
  },
  {
   "cell_type": "markdown",
   "id": "df7d56b5",
   "metadata": {},
   "source": [
    "给出特定范围内的残基列表"
   ]
  },
  {
   "cell_type": "code",
   "execution_count": 5,
   "id": "a364b93b",
   "metadata": {},
   "outputs": [],
   "source": [
    "contacts = [ligands_near(l, residue, 3.5) for l in p.ligands]"
   ]
  },
  {
   "cell_type": "code",
   "execution_count": 6,
   "id": "f8c66240",
   "metadata": {},
   "outputs": [
    {
     "name": "stdout",
     "output_type": "stream",
     "text": [
      "[{\"Ligand '4a'\"}, {\"Ligand '4a_D'\"}, {\"Ligand '4b-up'\"}, {\"Ligand '4b-up_D'\"}, {\"Ligand '4b-down'\"}, {\"Ligand '4b-down_D'\"}, {\"Ligand '4c'\"}, {\"Ligand '4c_D'\"}, {\"Ligand '4d'\"}, {\"Ligand '4d_D'\"}, {\"Ligand '4e-up'\"}, {\"Ligand '4e-up_D'\"}, {\"Ligand '4e-down'\"}, {\"Ligand '4e-down_D'\"}, {\"Ligand '4f'\"}, {\"Ligand '4f_D'\"}, {\"Ligand '4g-A T4G 330'\"}, {\"Ligand '4g-A T4G 330_D'\"}, {\"Ligand '4h'\"}, {\"Ligand '4h_D'\"}, {\"Ligand '4i'\"}, {\"Ligand '4i_D'\"}, {\"Ligand '4j'\"}, {\"Ligand '4j_D'\"}, {\"Ligand '4k_up'\"}, {\"Ligand '4k_up_D'\"}, {\"Ligand '4k_down'\"}, {\"Ligand '4k_down_D'\"}, {\"Ligand '4l_up'\"}, {\"Ligand '4l_up_D'\"}, {\"Ligand '4l_down'\"}, {\"Ligand '4l_down_D'\"}]\n"
     ]
    }
   ],
   "source": [
    "print(contacts)"
   ]
  },
  {
   "cell_type": "markdown",
   "id": "5aa42873",
   "metadata": {},
   "source": [
    "寻找与残基ASN253距离小于3.5A的配体，并添加标签‘ASN253’"
   ]
  },
  {
   "cell_type": "code",
   "execution_count": 7,
   "id": "45ff5be7",
   "metadata": {},
   "outputs": [],
   "source": [
    "def ligands_near_Tags(what, residue, radius):\n",
    "    for al in what.atoms:\n",
    "        if (al.atomic_number == 1):\n",
    "            continue\n",
    "        for ap in residue[0].atoms:\n",
    "            if (ap.atomic_number == 1):\n",
    "                continue\n",
    "            d = Point3D(*al.pos).Distance(Point3D(*ap.pos))\n",
    "            if (d < radius):\n",
    "                what.properties['Tags'].value = 'ASN253'"
   ]
  },
  {
   "cell_type": "code",
   "execution_count": 8,
   "id": "f40b87b0",
   "metadata": {},
   "outputs": [],
   "source": [
    "residue = p.proteins[0].residues.find('253')"
   ]
  },
  {
   "cell_type": "code",
   "execution_count": 9,
   "id": "317f696c",
   "metadata": {},
   "outputs": [],
   "source": [
    "for l in p.ligands:\n",
    "    ligands_near_Tags(l, residue, 3.5) "
   ]
  },
  {
   "cell_type": "code",
   "execution_count": null,
   "id": "794d214e",
   "metadata": {},
   "outputs": [],
   "source": []
  }
 ],
 "metadata": {
  "kernelspec": {
   "display_name": "Python 3",
   "language": "python",
   "name": "python3"
  },
  "language_info": {
   "codemirror_mode": {
    "name": "ipython",
    "version": 3
   },
   "file_extension": ".py",
   "mimetype": "text/x-python",
   "name": "python",
   "nbconvert_exporter": "python",
   "pygments_lexer": "ipython3",
   "version": "3.6.13"
  }
 },
 "nbformat": 4,
 "nbformat_minor": 5
}
